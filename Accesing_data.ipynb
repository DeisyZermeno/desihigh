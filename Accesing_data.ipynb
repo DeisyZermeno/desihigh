{
  "nbformat": 4,
  "nbformat_minor": 0,
  "metadata": {
    "colab": {
      "provenance": [],
      "authorship_tag": "ABX9TyO4qVqbxVc9E9eDQK2G4DP4",
      "include_colab_link": true
    },
    "kernelspec": {
      "name": "python3",
      "display_name": "Python 3"
    },
    "language_info": {
      "name": "python"
    }
  },
  "cells": [
    {
      "cell_type": "markdown",
      "metadata": {
        "id": "view-in-github",
        "colab_type": "text"
      },
      "source": [
        "<a href=\"https://colab.research.google.com/github/DeisyZermeno/desihigh/blob/main/Accesing_data.ipynb\" target=\"_parent\"><img src=\"https://colab.research.google.com/assets/colab-badge.svg\" alt=\"Open In Colab\"/></a>"
      ]
    },
    {
      "cell_type": "code",
      "source": [
        "!pip install sparclclient"
      ],
      "metadata": {
        "colab": {
          "base_uri": "https://localhost:8080/"
        },
        "id": "JObg4y4AjIsL",
        "outputId": "dbe05a2a-25cb-4daf-9a6a-68105553aa81"
      },
      "execution_count": null,
      "outputs": [
        {
          "output_type": "stream",
          "name": "stdout",
          "text": [
            "Collecting sparclclient\n",
            "  Downloading sparclclient-1.2.2-py2.py3-none-any.whl.metadata (564 bytes)\n",
            "Downloading sparclclient-1.2.2-py2.py3-none-any.whl (113 kB)\n",
            "\u001b[?25l   \u001b[90m━━━━━━━━━━━━━━━━━━━━━━━━━━━━━━━━━━━━━━━━\u001b[0m \u001b[32m0.0/113.8 kB\u001b[0m \u001b[31m?\u001b[0m eta \u001b[36m-:--:--\u001b[0m\r\u001b[2K   \u001b[90m━━━━━━━━━━━━━━━━━━━━━━━━━━━━━━━━━━━━━━━━\u001b[0m \u001b[32m113.8/113.8 kB\u001b[0m \u001b[31m3.5 MB/s\u001b[0m eta \u001b[36m0:00:00\u001b[0m\n",
            "\u001b[?25hInstalling collected packages: sparclclient\n",
            "Successfully installed sparclclient-1.2.2\n"
          ]
        }
      ]
    },
    {
      "cell_type": "code",
      "source": [
        "from astropy.utils.data import download_file # https://learn.astropy.org/tutorials/FITS-images.html\n",
        "from astropy.io import fits\n",
        "import numpy as np\n",
        "import pandas as pd\n",
        "from sparcl.client import SparclClient"
      ],
      "metadata": {
        "id": "OMhdomuQe3AK"
      },
      "execution_count": null,
      "outputs": []
    },
    {
      "cell_type": "markdown",
      "source": [
        "Ahora descargaremos el [catálogo](https://data.desi.lbl.gov/public/edr/spectro/redux/fuji/zcatalog/zall-pix-fuji.fits) atravez de un url."
      ],
      "metadata": {
        "id": "yjXBOsh6gwB0"
      }
    },
    {
      "cell_type": "code",
      "source": [
        "url = \"https://data.desi.lbl.gov/public/edr/spectro/redux/fuji/zcatalog/zall-pix-fuji.fits\"\n",
        "# Descarga el archivo desde la URL\n",
        "zall_pix_file = download_file(url, cache=True)"
      ],
      "metadata": {
        "id": "L6rUYVm1e_zU"
      },
      "execution_count": null,
      "outputs": []
    },
    {
      "cell_type": "code",
      "source": [
        "zall_data = fits.getdata(zall_pix_file)"
      ],
      "metadata": {
        "id": "g8iaVCX7jSiS"
      },
      "execution_count": null,
      "outputs": []
    },
    {
      "cell_type": "markdown",
      "source": [
        "Veamos que tipos de espectros podemos encontrar en el catálogo"
      ],
      "metadata": {
        "id": "YCfYDUGjhwaW"
      }
    },
    {
      "cell_type": "code",
      "source": [
        "np.unique(zall_data['SPECTYPE'])"
      ],
      "metadata": {
        "id": "MckoFq-PltKd",
        "colab": {
          "base_uri": "https://localhost:8080/"
        },
        "outputId": "6b05aefe-07a1-4a3b-858f-cf7f5dd59db1"
      },
      "execution_count": null,
      "outputs": [
        {
          "output_type": "execute_result",
          "data": {
            "text/plain": [
              "chararray(['GALAXY', 'QSO', 'STAR'], dtype='<U6')"
            ]
          },
          "metadata": {},
          "execution_count": 10
        }
      ]
    },
    {
      "cell_type": "markdown",
      "source": [
        "Excelente ahora puedes obtener espectros de galaxias, estrellas y cuasares, vamos a ello."
      ],
      "metadata": {
        "id": "l8G4kcpJhUXs"
      }
    },
    {
      "cell_type": "code",
      "source": [
        "typ = zall_data['SPECTYPE']\n",
        "galaxies = zall_data[zall_data[\"SPECTYPE\"] == \"GALAXY\"]\n",
        "stars = zall_data[zall_data[\"SPECTYPE\"] == \"STAR\"]\n",
        "qso = zall_data[zall_data[\"SPECTYPE\"] == \"QSO\"]"
      ],
      "metadata": {
        "id": "tiQDRtJpjkyz"
      },
      "execution_count": null,
      "outputs": []
    },
    {
      "cell_type": "code",
      "source": [
        "# Esta funcion nos ayuda a elegir espectros random de todo el catálogo.\n",
        "def get_random_targetids(arr, n):\n",
        "  random_indices = np.random.choice(len(arr), size=n, replace=False)\n",
        "  return arr[random_indices][\"TARGETID\"]"
      ],
      "metadata": {
        "id": "JetK2CNigvHB"
      },
      "execution_count": null,
      "outputs": []
    },
    {
      "cell_type": "markdown",
      "source": [
        "Ahora definamos cuantos espectros quieres obtener:"
      ],
      "metadata": {
        "id": "kIWllhtCgGym"
      }
    },
    {
      "cell_type": "code",
      "source": [
        "# Numero de espectros\n",
        "N = 5"
      ],
      "metadata": {
        "id": "LsH92V7zjSN4"
      },
      "execution_count": null,
      "outputs": []
    },
    {
      "cell_type": "markdown",
      "source": [
        "Veamos, obtengamo los TARGETID de 5 espectros de cadas tipo."
      ],
      "metadata": {
        "id": "0hQWFmvWiguX"
      }
    },
    {
      "cell_type": "code",
      "source": [
        "# NOTA: Aun estoy mejorando el código, la idea es que los TARGETID se regresen al usario ya en una lista, para que no los tenga que copiar y pegar.\n",
        "print(\"Gaxalies\")\n",
        "random_galaxies_targetids = get_random_targetids(galaxies, N)\n",
        "for r in random_galaxies_targetids:\n",
        "  print(r)"
      ],
      "metadata": {
        "colab": {
          "base_uri": "https://localhost:8080/"
        },
        "id": "kueal2ycjRqF",
        "outputId": "6c07f308-d55f-4e5a-d5b8-889393f52f01"
      },
      "execution_count": null,
      "outputs": [
        {
          "output_type": "stream",
          "name": "stdout",
          "text": [
            "Gaxalies\n",
            "616088527960015309\n",
            "616089185530413103\n",
            "616088570297320320\n",
            "39627847651823912\n",
            "39627770275302015\n"
          ]
        }
      ]
    },
    {
      "cell_type": "code",
      "source": [
        "print(\"Stars\")\n",
        "random_stars_targetids = get_random_targetids(stars, N)\n",
        "for r in random_stars_targetids:\n",
        "  print(r)"
      ],
      "metadata": {
        "colab": {
          "base_uri": "https://localhost:8080/"
        },
        "id": "Mv4OL9P5oQyt",
        "outputId": "553efd31-d3c0-4d50-c8d8-5215100dcfc2"
      },
      "execution_count": null,
      "outputs": [
        {
          "output_type": "stream",
          "name": "stdout",
          "text": [
            "Stars\n",
            "39627586527036018\n",
            "39633154046167459\n",
            "39627764193559286\n",
            "-810679429\n",
            "39633426923391769\n"
          ]
        }
      ]
    },
    {
      "cell_type": "code",
      "source": [
        "print(\"QSO\")\n",
        "random_qso_targetids = get_random_targetids(qso, N)\n",
        "for r in random_qso_targetids:\n",
        "  print(r)"
      ],
      "metadata": {
        "colab": {
          "base_uri": "https://localhost:8080/"
        },
        "id": "LSpXW6seodhT",
        "outputId": "93a106ac-8eb0-4efa-9bb7-b4cb132f5ff3"
      },
      "execution_count": null,
      "outputs": [
        {
          "output_type": "stream",
          "name": "stdout",
          "text": [
            "QSO\n",
            "39633282647721587\n",
            "103625124741152\n",
            "39633405603745713\n",
            "39633293380946186\n",
            "39627920989229166\n"
          ]
        }
      ]
    },
    {
      "cell_type": "markdown",
      "source": [
        "Si quieres obtener la información de dicho espectro, hagamos lo siguiente. Digamos que quieres obtener la informacion de wavelength, flux y redshift de los espectros de cuasares que obtruviste, entonces haremos uso de **client.retrieve_by_specid** al que le pasaremos como parámetros la lista de TARGETID de los espectros que obtuviste y la información que quieres de ellos."
      ],
      "metadata": {
        "id": "pWXB9eskgbcH"
      }
    },
    {
      "cell_type": "code",
      "source": [
        "# Necesitamos generar un \"cliente\" para poder interactuar con los servicios de SPARCL\n",
        "# Una vez hecho esto podremos acceder a datos y realizar operaciones con ellos!!\n",
        "client = SparclClient()"
      ],
      "metadata": {
        "id": "Hb9DaLezjEPo"
      },
      "execution_count": null,
      "outputs": []
    },
    {
      "cell_type": "code",
      "source": [
        "TRGETID=[39633282647721587, 103625124741152,39633405603745713,39633293380946186,39627920989229166]\n",
        "inf = ['wavelength', 'flux', 'redshift']\n",
        "spectra = client.retrieve_by_specid(TRGETID,\n",
        "    include = inf)\n",
        "spec = spectra.records"
      ],
      "metadata": {
        "id": "1-zk1Gxwoqw3"
      },
      "execution_count": null,
      "outputs": []
    },
    {
      "cell_type": "code",
      "source": [
        "df = pd.DataFrame(spec)\n",
        "df"
      ],
      "metadata": {
        "colab": {
          "base_uri": "https://localhost:8080/",
          "height": 237
        },
        "id": "FaPw5X3mkJAc",
        "outputId": "096b2d65-7d5b-49af-c543-8cec308f28a4"
      },
      "execution_count": null,
      "outputs": [
        {
          "output_type": "execute_result",
          "data": {
            "text/plain": [
              "   redshift                                               flux  \\\n",
              "0  1.425212  [4.910739898681641, 3.4554779529571533, 4.4037...   \n",
              "1  0.894964  [16.631006240844727, 19.67969512939453, 10.660...   \n",
              "2  1.423316  [0.09027601033449173, 1.7164666652679443, 0.37...   \n",
              "3  1.789569  [0.6580186486244202, -1.9306870698928833, 1.67...   \n",
              "4  1.715298  [2.0987820625305176, 0.8841259479522705, 3.887...   \n",
              "5  0.215073  [17.903379440307617, -4.437004089355469, -21.7...   \n",
              "\n",
              "                                          wavelength       _dr  \n",
              "0  [3600.0, 3600.8, 3601.6000000000004, 3602.4000...  DESI-EDR  \n",
              "1  [3600.0, 3600.8, 3601.6000000000004, 3602.4000...  DESI-EDR  \n",
              "2  [3600.0, 3600.8, 3601.6000000000004, 3602.4000...  DESI-EDR  \n",
              "3  [3600.0, 3600.8, 3601.6000000000004, 3602.4000...  DESI-EDR  \n",
              "4  [3600.0, 3600.8, 3601.6000000000004, 3602.4000...  DESI-EDR  \n",
              "5  [3600.0, 3600.8, 3601.6000000000004, 3602.4000...  DESI-EDR  "
            ],
            "text/html": [
              "\n",
              "  <div id=\"df-8b2c5ea3-06d9-4c13-b6c6-6d67e06618f0\" class=\"colab-df-container\">\n",
              "    <div>\n",
              "<style scoped>\n",
              "    .dataframe tbody tr th:only-of-type {\n",
              "        vertical-align: middle;\n",
              "    }\n",
              "\n",
              "    .dataframe tbody tr th {\n",
              "        vertical-align: top;\n",
              "    }\n",
              "\n",
              "    .dataframe thead th {\n",
              "        text-align: right;\n",
              "    }\n",
              "</style>\n",
              "<table border=\"1\" class=\"dataframe\">\n",
              "  <thead>\n",
              "    <tr style=\"text-align: right;\">\n",
              "      <th></th>\n",
              "      <th>redshift</th>\n",
              "      <th>flux</th>\n",
              "      <th>wavelength</th>\n",
              "      <th>_dr</th>\n",
              "    </tr>\n",
              "  </thead>\n",
              "  <tbody>\n",
              "    <tr>\n",
              "      <th>0</th>\n",
              "      <td>1.425212</td>\n",
              "      <td>[4.910739898681641, 3.4554779529571533, 4.4037...</td>\n",
              "      <td>[3600.0, 3600.8, 3601.6000000000004, 3602.4000...</td>\n",
              "      <td>DESI-EDR</td>\n",
              "    </tr>\n",
              "    <tr>\n",
              "      <th>1</th>\n",
              "      <td>0.894964</td>\n",
              "      <td>[16.631006240844727, 19.67969512939453, 10.660...</td>\n",
              "      <td>[3600.0, 3600.8, 3601.6000000000004, 3602.4000...</td>\n",
              "      <td>DESI-EDR</td>\n",
              "    </tr>\n",
              "    <tr>\n",
              "      <th>2</th>\n",
              "      <td>1.423316</td>\n",
              "      <td>[0.09027601033449173, 1.7164666652679443, 0.37...</td>\n",
              "      <td>[3600.0, 3600.8, 3601.6000000000004, 3602.4000...</td>\n",
              "      <td>DESI-EDR</td>\n",
              "    </tr>\n",
              "    <tr>\n",
              "      <th>3</th>\n",
              "      <td>1.789569</td>\n",
              "      <td>[0.6580186486244202, -1.9306870698928833, 1.67...</td>\n",
              "      <td>[3600.0, 3600.8, 3601.6000000000004, 3602.4000...</td>\n",
              "      <td>DESI-EDR</td>\n",
              "    </tr>\n",
              "    <tr>\n",
              "      <th>4</th>\n",
              "      <td>1.715298</td>\n",
              "      <td>[2.0987820625305176, 0.8841259479522705, 3.887...</td>\n",
              "      <td>[3600.0, 3600.8, 3601.6000000000004, 3602.4000...</td>\n",
              "      <td>DESI-EDR</td>\n",
              "    </tr>\n",
              "    <tr>\n",
              "      <th>5</th>\n",
              "      <td>0.215073</td>\n",
              "      <td>[17.903379440307617, -4.437004089355469, -21.7...</td>\n",
              "      <td>[3600.0, 3600.8, 3601.6000000000004, 3602.4000...</td>\n",
              "      <td>DESI-EDR</td>\n",
              "    </tr>\n",
              "  </tbody>\n",
              "</table>\n",
              "</div>\n",
              "    <div class=\"colab-df-buttons\">\n",
              "\n",
              "  <div class=\"colab-df-container\">\n",
              "    <button class=\"colab-df-convert\" onclick=\"convertToInteractive('df-8b2c5ea3-06d9-4c13-b6c6-6d67e06618f0')\"\n",
              "            title=\"Convert this dataframe to an interactive table.\"\n",
              "            style=\"display:none;\">\n",
              "\n",
              "  <svg xmlns=\"http://www.w3.org/2000/svg\" height=\"24px\" viewBox=\"0 -960 960 960\">\n",
              "    <path d=\"M120-120v-720h720v720H120Zm60-500h600v-160H180v160Zm220 220h160v-160H400v160Zm0 220h160v-160H400v160ZM180-400h160v-160H180v160Zm440 0h160v-160H620v160ZM180-180h160v-160H180v160Zm440 0h160v-160H620v160Z\"/>\n",
              "  </svg>\n",
              "    </button>\n",
              "\n",
              "  <style>\n",
              "    .colab-df-container {\n",
              "      display:flex;\n",
              "      gap: 12px;\n",
              "    }\n",
              "\n",
              "    .colab-df-convert {\n",
              "      background-color: #E8F0FE;\n",
              "      border: none;\n",
              "      border-radius: 50%;\n",
              "      cursor: pointer;\n",
              "      display: none;\n",
              "      fill: #1967D2;\n",
              "      height: 32px;\n",
              "      padding: 0 0 0 0;\n",
              "      width: 32px;\n",
              "    }\n",
              "\n",
              "    .colab-df-convert:hover {\n",
              "      background-color: #E2EBFA;\n",
              "      box-shadow: 0px 1px 2px rgba(60, 64, 67, 0.3), 0px 1px 3px 1px rgba(60, 64, 67, 0.15);\n",
              "      fill: #174EA6;\n",
              "    }\n",
              "\n",
              "    .colab-df-buttons div {\n",
              "      margin-bottom: 4px;\n",
              "    }\n",
              "\n",
              "    [theme=dark] .colab-df-convert {\n",
              "      background-color: #3B4455;\n",
              "      fill: #D2E3FC;\n",
              "    }\n",
              "\n",
              "    [theme=dark] .colab-df-convert:hover {\n",
              "      background-color: #434B5C;\n",
              "      box-shadow: 0px 1px 3px 1px rgba(0, 0, 0, 0.15);\n",
              "      filter: drop-shadow(0px 1px 2px rgba(0, 0, 0, 0.3));\n",
              "      fill: #FFFFFF;\n",
              "    }\n",
              "  </style>\n",
              "\n",
              "    <script>\n",
              "      const buttonEl =\n",
              "        document.querySelector('#df-8b2c5ea3-06d9-4c13-b6c6-6d67e06618f0 button.colab-df-convert');\n",
              "      buttonEl.style.display =\n",
              "        google.colab.kernel.accessAllowed ? 'block' : 'none';\n",
              "\n",
              "      async function convertToInteractive(key) {\n",
              "        const element = document.querySelector('#df-8b2c5ea3-06d9-4c13-b6c6-6d67e06618f0');\n",
              "        const dataTable =\n",
              "          await google.colab.kernel.invokeFunction('convertToInteractive',\n",
              "                                                    [key], {});\n",
              "        if (!dataTable) return;\n",
              "\n",
              "        const docLinkHtml = 'Like what you see? Visit the ' +\n",
              "          '<a target=\"_blank\" href=https://colab.research.google.com/notebooks/data_table.ipynb>data table notebook</a>'\n",
              "          + ' to learn more about interactive tables.';\n",
              "        element.innerHTML = '';\n",
              "        dataTable['output_type'] = 'display_data';\n",
              "        await google.colab.output.renderOutput(dataTable, element);\n",
              "        const docLink = document.createElement('div');\n",
              "        docLink.innerHTML = docLinkHtml;\n",
              "        element.appendChild(docLink);\n",
              "      }\n",
              "    </script>\n",
              "  </div>\n",
              "\n",
              "\n",
              "<div id=\"df-6bb84980-733b-46b5-a6e8-48a54a119c72\">\n",
              "  <button class=\"colab-df-quickchart\" onclick=\"quickchart('df-6bb84980-733b-46b5-a6e8-48a54a119c72')\"\n",
              "            title=\"Suggest charts\"\n",
              "            style=\"display:none;\">\n",
              "\n",
              "<svg xmlns=\"http://www.w3.org/2000/svg\" height=\"24px\"viewBox=\"0 0 24 24\"\n",
              "     width=\"24px\">\n",
              "    <g>\n",
              "        <path d=\"M19 3H5c-1.1 0-2 .9-2 2v14c0 1.1.9 2 2 2h14c1.1 0 2-.9 2-2V5c0-1.1-.9-2-2-2zM9 17H7v-7h2v7zm4 0h-2V7h2v10zm4 0h-2v-4h2v4z\"/>\n",
              "    </g>\n",
              "</svg>\n",
              "  </button>\n",
              "\n",
              "<style>\n",
              "  .colab-df-quickchart {\n",
              "      --bg-color: #E8F0FE;\n",
              "      --fill-color: #1967D2;\n",
              "      --hover-bg-color: #E2EBFA;\n",
              "      --hover-fill-color: #174EA6;\n",
              "      --disabled-fill-color: #AAA;\n",
              "      --disabled-bg-color: #DDD;\n",
              "  }\n",
              "\n",
              "  [theme=dark] .colab-df-quickchart {\n",
              "      --bg-color: #3B4455;\n",
              "      --fill-color: #D2E3FC;\n",
              "      --hover-bg-color: #434B5C;\n",
              "      --hover-fill-color: #FFFFFF;\n",
              "      --disabled-bg-color: #3B4455;\n",
              "      --disabled-fill-color: #666;\n",
              "  }\n",
              "\n",
              "  .colab-df-quickchart {\n",
              "    background-color: var(--bg-color);\n",
              "    border: none;\n",
              "    border-radius: 50%;\n",
              "    cursor: pointer;\n",
              "    display: none;\n",
              "    fill: var(--fill-color);\n",
              "    height: 32px;\n",
              "    padding: 0;\n",
              "    width: 32px;\n",
              "  }\n",
              "\n",
              "  .colab-df-quickchart:hover {\n",
              "    background-color: var(--hover-bg-color);\n",
              "    box-shadow: 0 1px 2px rgba(60, 64, 67, 0.3), 0 1px 3px 1px rgba(60, 64, 67, 0.15);\n",
              "    fill: var(--button-hover-fill-color);\n",
              "  }\n",
              "\n",
              "  .colab-df-quickchart-complete:disabled,\n",
              "  .colab-df-quickchart-complete:disabled:hover {\n",
              "    background-color: var(--disabled-bg-color);\n",
              "    fill: var(--disabled-fill-color);\n",
              "    box-shadow: none;\n",
              "  }\n",
              "\n",
              "  .colab-df-spinner {\n",
              "    border: 2px solid var(--fill-color);\n",
              "    border-color: transparent;\n",
              "    border-bottom-color: var(--fill-color);\n",
              "    animation:\n",
              "      spin 1s steps(1) infinite;\n",
              "  }\n",
              "\n",
              "  @keyframes spin {\n",
              "    0% {\n",
              "      border-color: transparent;\n",
              "      border-bottom-color: var(--fill-color);\n",
              "      border-left-color: var(--fill-color);\n",
              "    }\n",
              "    20% {\n",
              "      border-color: transparent;\n",
              "      border-left-color: var(--fill-color);\n",
              "      border-top-color: var(--fill-color);\n",
              "    }\n",
              "    30% {\n",
              "      border-color: transparent;\n",
              "      border-left-color: var(--fill-color);\n",
              "      border-top-color: var(--fill-color);\n",
              "      border-right-color: var(--fill-color);\n",
              "    }\n",
              "    40% {\n",
              "      border-color: transparent;\n",
              "      border-right-color: var(--fill-color);\n",
              "      border-top-color: var(--fill-color);\n",
              "    }\n",
              "    60% {\n",
              "      border-color: transparent;\n",
              "      border-right-color: var(--fill-color);\n",
              "    }\n",
              "    80% {\n",
              "      border-color: transparent;\n",
              "      border-right-color: var(--fill-color);\n",
              "      border-bottom-color: var(--fill-color);\n",
              "    }\n",
              "    90% {\n",
              "      border-color: transparent;\n",
              "      border-bottom-color: var(--fill-color);\n",
              "    }\n",
              "  }\n",
              "</style>\n",
              "\n",
              "  <script>\n",
              "    async function quickchart(key) {\n",
              "      const quickchartButtonEl =\n",
              "        document.querySelector('#' + key + ' button');\n",
              "      quickchartButtonEl.disabled = true;  // To prevent multiple clicks.\n",
              "      quickchartButtonEl.classList.add('colab-df-spinner');\n",
              "      try {\n",
              "        const charts = await google.colab.kernel.invokeFunction(\n",
              "            'suggestCharts', [key], {});\n",
              "      } catch (error) {\n",
              "        console.error('Error during call to suggestCharts:', error);\n",
              "      }\n",
              "      quickchartButtonEl.classList.remove('colab-df-spinner');\n",
              "      quickchartButtonEl.classList.add('colab-df-quickchart-complete');\n",
              "    }\n",
              "    (() => {\n",
              "      let quickchartButtonEl =\n",
              "        document.querySelector('#df-6bb84980-733b-46b5-a6e8-48a54a119c72 button');\n",
              "      quickchartButtonEl.style.display =\n",
              "        google.colab.kernel.accessAllowed ? 'block' : 'none';\n",
              "    })();\n",
              "  </script>\n",
              "</div>\n",
              "\n",
              "  <div id=\"id_ca7d38d8-961b-4f4b-b0b4-13d74a574810\">\n",
              "    <style>\n",
              "      .colab-df-generate {\n",
              "        background-color: #E8F0FE;\n",
              "        border: none;\n",
              "        border-radius: 50%;\n",
              "        cursor: pointer;\n",
              "        display: none;\n",
              "        fill: #1967D2;\n",
              "        height: 32px;\n",
              "        padding: 0 0 0 0;\n",
              "        width: 32px;\n",
              "      }\n",
              "\n",
              "      .colab-df-generate:hover {\n",
              "        background-color: #E2EBFA;\n",
              "        box-shadow: 0px 1px 2px rgba(60, 64, 67, 0.3), 0px 1px 3px 1px rgba(60, 64, 67, 0.15);\n",
              "        fill: #174EA6;\n",
              "      }\n",
              "\n",
              "      [theme=dark] .colab-df-generate {\n",
              "        background-color: #3B4455;\n",
              "        fill: #D2E3FC;\n",
              "      }\n",
              "\n",
              "      [theme=dark] .colab-df-generate:hover {\n",
              "        background-color: #434B5C;\n",
              "        box-shadow: 0px 1px 3px 1px rgba(0, 0, 0, 0.15);\n",
              "        filter: drop-shadow(0px 1px 2px rgba(0, 0, 0, 0.3));\n",
              "        fill: #FFFFFF;\n",
              "      }\n",
              "    </style>\n",
              "    <button class=\"colab-df-generate\" onclick=\"generateWithVariable('df')\"\n",
              "            title=\"Generate code using this dataframe.\"\n",
              "            style=\"display:none;\">\n",
              "\n",
              "  <svg xmlns=\"http://www.w3.org/2000/svg\" height=\"24px\"viewBox=\"0 0 24 24\"\n",
              "       width=\"24px\">\n",
              "    <path d=\"M7,19H8.4L18.45,9,17,7.55,7,17.6ZM5,21V16.75L18.45,3.32a2,2,0,0,1,2.83,0l1.4,1.43a1.91,1.91,0,0,1,.58,1.4,1.91,1.91,0,0,1-.58,1.4L9.25,21ZM18.45,9,17,7.55Zm-12,3A5.31,5.31,0,0,0,4.9,8.1,5.31,5.31,0,0,0,1,6.5,5.31,5.31,0,0,0,4.9,4.9,5.31,5.31,0,0,0,6.5,1,5.31,5.31,0,0,0,8.1,4.9,5.31,5.31,0,0,0,12,6.5,5.46,5.46,0,0,0,6.5,12Z\"/>\n",
              "  </svg>\n",
              "    </button>\n",
              "    <script>\n",
              "      (() => {\n",
              "      const buttonEl =\n",
              "        document.querySelector('#id_ca7d38d8-961b-4f4b-b0b4-13d74a574810 button.colab-df-generate');\n",
              "      buttonEl.style.display =\n",
              "        google.colab.kernel.accessAllowed ? 'block' : 'none';\n",
              "\n",
              "      buttonEl.onclick = () => {\n",
              "        google.colab.notebook.generateWithVariable('df');\n",
              "      }\n",
              "      })();\n",
              "    </script>\n",
              "  </div>\n",
              "\n",
              "    </div>\n",
              "  </div>\n"
            ],
            "application/vnd.google.colaboratory.intrinsic+json": {
              "type": "dataframe",
              "variable_name": "df",
              "summary": "{\n  \"name\": \"df\",\n  \"rows\": 6,\n  \"fields\": [\n    {\n      \"column\": \"redshift\",\n      \"properties\": {\n        \"dtype\": \"number\",\n        \"std\": 0.5941844305589041,\n        \"min\": 0.21507329576603632,\n        \"max\": 1.789569253388051,\n        \"num_unique_values\": 6,\n        \"samples\": [\n          1.4252119616864085,\n          0.8949643270755173,\n          0.21507329576603632\n        ],\n        \"semantic_type\": \"\",\n        \"description\": \"\"\n      }\n    },\n    {\n      \"column\": \"flux\",\n      \"properties\": {\n        \"dtype\": \"object\",\n        \"semantic_type\": \"\",\n        \"description\": \"\"\n      }\n    },\n    {\n      \"column\": \"wavelength\",\n      \"properties\": {\n        \"dtype\": \"object\",\n        \"semantic_type\": \"\",\n        \"description\": \"\"\n      }\n    },\n    {\n      \"column\": \"_dr\",\n      \"properties\": {\n        \"dtype\": \"category\",\n        \"num_unique_values\": 1,\n        \"samples\": [\n          \"DESI-EDR\"\n        ],\n        \"semantic_type\": \"\",\n        \"description\": \"\"\n      }\n    }\n  ]\n}"
            }
          },
          "metadata": {},
          "execution_count": 20
        }
      ]
    }
  ]
}